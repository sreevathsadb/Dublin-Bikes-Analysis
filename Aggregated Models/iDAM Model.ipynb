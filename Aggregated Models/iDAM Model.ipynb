{
 "cells": [
  {
   "cell_type": "code",
   "execution_count": 1,
   "id": "40f29a89",
   "metadata": {},
   "outputs": [],
   "source": [
    "#import necessary libraries and files \n",
    "import pandas as pd\n",
    "import numpy as np\n",
    "import warnings\n",
    "import time\n",
    "import datetime as dt \n",
    "warnings.filterwarnings('ignore')\n",
    "import matplotlib.pyplot as plt\n",
    "import folium\n",
    "import sklearn\n",
    "import seaborn as sns\n",
    "import glob\n",
    "from sklearn.model_selection import train_test_split\n",
    "import statsmodels.api as sm\n",
    "\n",
    "import statsmodels.formula.api as smf\n",
    "from matplotlib import pyplot as plt\n",
    "from sklearn.metrics import mean_squared_error\n",
    "from sklearn.metrics import mean_squared_log_error\n",
    "import plotly.express as px\n",
    "pd.set_option(\"display.max_columns\",1000)\n",
    "pd.set_option('display.max_rows', 17544) \n",
    "%matplotlib inline"
   ]
  },
  {
   "cell_type": "code",
   "execution_count": 2,
   "id": "982f13e9",
   "metadata": {},
   "outputs": [
    {
     "data": {
      "text/html": [
       "<div>\n",
       "<style scoped>\n",
       "    .dataframe tbody tr th:only-of-type {\n",
       "        vertical-align: middle;\n",
       "    }\n",
       "\n",
       "    .dataframe tbody tr th {\n",
       "        vertical-align: top;\n",
       "    }\n",
       "\n",
       "    .dataframe thead th {\n",
       "        text-align: right;\n",
       "    }\n",
       "</style>\n",
       "<table border=\"1\" class=\"dataframe\">\n",
       "  <thead>\n",
       "    <tr style=\"text-align: right;\">\n",
       "      <th></th>\n",
       "      <th>id</th>\n",
       "      <th>timestamp</th>\n",
       "      <th>total_bike_stands</th>\n",
       "      <th>available_bike_stands</th>\n",
       "      <th>available_bikes</th>\n",
       "      <th>year</th>\n",
       "      <th>month</th>\n",
       "      <th>day</th>\n",
       "      <th>hour</th>\n",
       "      <th>minute</th>\n",
       "      <th>weekday</th>\n",
       "      <th>number</th>\n",
       "      <th>name</th>\n",
       "      <th>latitude</th>\n",
       "      <th>longitude</th>\n",
       "      <th>holiday</th>\n",
       "      <th>season</th>\n",
       "      <th>date_for_merge</th>\n",
       "      <th>rain</th>\n",
       "      <th>temp</th>\n",
       "      <th>wdsp</th>\n",
       "      <th>wdsp_classified</th>\n",
       "      <th>day_type</th>\n",
       "      <th>classified_time</th>\n",
       "      <th>cluster_group</th>\n",
       "      <th>bike_arr_dep</th>\n",
       "      <th>bike_arr</th>\n",
       "      <th>bike_dep</th>\n",
       "      <th>interactions</th>\n",
       "      <th>Cluster</th>\n",
       "      <th>activity_type</th>\n",
       "      <th>cluster_interaction_mean</th>\n",
       "      <th>rebalance</th>\n",
       "    </tr>\n",
       "  </thead>\n",
       "  <tbody>\n",
       "    <tr>\n",
       "      <th>0</th>\n",
       "      <td>8</td>\n",
       "      <td>2013-12-04 10:30:01</td>\n",
       "      <td>0</td>\n",
       "      <td>-10</td>\n",
       "      <td>10</td>\n",
       "      <td>2013</td>\n",
       "      <td>12</td>\n",
       "      <td>4</td>\n",
       "      <td>10</td>\n",
       "      <td>30</td>\n",
       "      <td>Wednesday</td>\n",
       "      <td>8</td>\n",
       "      <td>CUSTOM HOUSE QUAY</td>\n",
       "      <td>53.347884</td>\n",
       "      <td>-6.248048</td>\n",
       "      <td>casual_day</td>\n",
       "      <td>Winter</td>\n",
       "      <td>2013-12-04 11:00:00</td>\n",
       "      <td>0.0</td>\n",
       "      <td>8.5</td>\n",
       "      <td>12.0</td>\n",
       "      <td>Moderate breeze</td>\n",
       "      <td>Weekday</td>\n",
       "      <td>6AM-10AM</td>\n",
       "      <td>6AM-10AM Weekday</td>\n",
       "      <td>-34.0</td>\n",
       "      <td>0.0</td>\n",
       "      <td>-34.0</td>\n",
       "      <td>34.0</td>\n",
       "      <td>0</td>\n",
       "      <td>rebalancing</td>\n",
       "      <td>2.0</td>\n",
       "      <td>32.0</td>\n",
       "    </tr>\n",
       "    <tr>\n",
       "      <th>1</th>\n",
       "      <td>1</td>\n",
       "      <td>2014-10-16 05:50:02</td>\n",
       "      <td>29</td>\n",
       "      <td>29</td>\n",
       "      <td>0</td>\n",
       "      <td>2014</td>\n",
       "      <td>10</td>\n",
       "      <td>16</td>\n",
       "      <td>5</td>\n",
       "      <td>50</td>\n",
       "      <td>Thursday</td>\n",
       "      <td>1</td>\n",
       "      <td>CLARENDON ROW</td>\n",
       "      <td>53.340883</td>\n",
       "      <td>-6.262542</td>\n",
       "      <td>casual_day</td>\n",
       "      <td>Autumn</td>\n",
       "      <td>2014-10-16 06:00:00</td>\n",
       "      <td>0.0</td>\n",
       "      <td>8.5</td>\n",
       "      <td>5.0</td>\n",
       "      <td>Light breeze</td>\n",
       "      <td>Weekday</td>\n",
       "      <td>Overnight</td>\n",
       "      <td>Overnight Weekday</td>\n",
       "      <td>2.0</td>\n",
       "      <td>2.0</td>\n",
       "      <td>0.0</td>\n",
       "      <td>2.0</td>\n",
       "      <td>0</td>\n",
       "      <td>rental</td>\n",
       "      <td>2.0</td>\n",
       "      <td>0.0</td>\n",
       "    </tr>\n",
       "    <tr>\n",
       "      <th>2</th>\n",
       "      <td>1</td>\n",
       "      <td>2014-10-16 06:00:02</td>\n",
       "      <td>29</td>\n",
       "      <td>27</td>\n",
       "      <td>2</td>\n",
       "      <td>2014</td>\n",
       "      <td>10</td>\n",
       "      <td>16</td>\n",
       "      <td>6</td>\n",
       "      <td>0</td>\n",
       "      <td>Thursday</td>\n",
       "      <td>1</td>\n",
       "      <td>CLARENDON ROW</td>\n",
       "      <td>53.340883</td>\n",
       "      <td>-6.262542</td>\n",
       "      <td>casual_day</td>\n",
       "      <td>Autumn</td>\n",
       "      <td>2014-10-16 06:00:00</td>\n",
       "      <td>0.0</td>\n",
       "      <td>8.5</td>\n",
       "      <td>5.0</td>\n",
       "      <td>Light breeze</td>\n",
       "      <td>Weekday</td>\n",
       "      <td>6AM-10AM</td>\n",
       "      <td>6AM-10AM Weekday</td>\n",
       "      <td>1.0</td>\n",
       "      <td>1.0</td>\n",
       "      <td>0.0</td>\n",
       "      <td>1.0</td>\n",
       "      <td>0</td>\n",
       "      <td>rental</td>\n",
       "      <td>2.0</td>\n",
       "      <td>0.0</td>\n",
       "    </tr>\n",
       "    <tr>\n",
       "      <th>3</th>\n",
       "      <td>1</td>\n",
       "      <td>2014-10-16 06:10:01</td>\n",
       "      <td>29</td>\n",
       "      <td>26</td>\n",
       "      <td>3</td>\n",
       "      <td>2014</td>\n",
       "      <td>10</td>\n",
       "      <td>16</td>\n",
       "      <td>6</td>\n",
       "      <td>10</td>\n",
       "      <td>Thursday</td>\n",
       "      <td>1</td>\n",
       "      <td>CLARENDON ROW</td>\n",
       "      <td>53.340883</td>\n",
       "      <td>-6.262542</td>\n",
       "      <td>casual_day</td>\n",
       "      <td>Autumn</td>\n",
       "      <td>2014-10-16 06:00:00</td>\n",
       "      <td>0.0</td>\n",
       "      <td>8.5</td>\n",
       "      <td>5.0</td>\n",
       "      <td>Light breeze</td>\n",
       "      <td>Weekday</td>\n",
       "      <td>6AM-10AM</td>\n",
       "      <td>6AM-10AM Weekday</td>\n",
       "      <td>1.0</td>\n",
       "      <td>1.0</td>\n",
       "      <td>0.0</td>\n",
       "      <td>1.0</td>\n",
       "      <td>0</td>\n",
       "      <td>rental</td>\n",
       "      <td>2.0</td>\n",
       "      <td>0.0</td>\n",
       "    </tr>\n",
       "    <tr>\n",
       "      <th>4</th>\n",
       "      <td>1</td>\n",
       "      <td>2014-10-16 06:20:02</td>\n",
       "      <td>29</td>\n",
       "      <td>25</td>\n",
       "      <td>4</td>\n",
       "      <td>2014</td>\n",
       "      <td>10</td>\n",
       "      <td>16</td>\n",
       "      <td>6</td>\n",
       "      <td>20</td>\n",
       "      <td>Thursday</td>\n",
       "      <td>1</td>\n",
       "      <td>CLARENDON ROW</td>\n",
       "      <td>53.340883</td>\n",
       "      <td>-6.262542</td>\n",
       "      <td>casual_day</td>\n",
       "      <td>Autumn</td>\n",
       "      <td>2014-10-16 06:00:00</td>\n",
       "      <td>0.0</td>\n",
       "      <td>8.5</td>\n",
       "      <td>5.0</td>\n",
       "      <td>Light breeze</td>\n",
       "      <td>Weekday</td>\n",
       "      <td>6AM-10AM</td>\n",
       "      <td>6AM-10AM Weekday</td>\n",
       "      <td>2.0</td>\n",
       "      <td>2.0</td>\n",
       "      <td>0.0</td>\n",
       "      <td>2.0</td>\n",
       "      <td>0</td>\n",
       "      <td>rental</td>\n",
       "      <td>3.0</td>\n",
       "      <td>0.0</td>\n",
       "    </tr>\n",
       "  </tbody>\n",
       "</table>\n",
       "</div>"
      ],
      "text/plain": [
       "   id            timestamp  total_bike_stands  available_bike_stands  \\\n",
       "0   8  2013-12-04 10:30:01                  0                    -10   \n",
       "1   1  2014-10-16 05:50:02                 29                     29   \n",
       "2   1  2014-10-16 06:00:02                 29                     27   \n",
       "3   1  2014-10-16 06:10:01                 29                     26   \n",
       "4   1  2014-10-16 06:20:02                 29                     25   \n",
       "\n",
       "   available_bikes  year  month  day  hour  minute    weekday  number  \\\n",
       "0               10  2013     12    4    10      30  Wednesday       8   \n",
       "1                0  2014     10   16     5      50   Thursday       1   \n",
       "2                2  2014     10   16     6       0   Thursday       1   \n",
       "3                3  2014     10   16     6      10   Thursday       1   \n",
       "4                4  2014     10   16     6      20   Thursday       1   \n",
       "\n",
       "                name   latitude  longitude     holiday  season  \\\n",
       "0  CUSTOM HOUSE QUAY  53.347884  -6.248048  casual_day  Winter   \n",
       "1      CLARENDON ROW  53.340883  -6.262542  casual_day  Autumn   \n",
       "2      CLARENDON ROW  53.340883  -6.262542  casual_day  Autumn   \n",
       "3      CLARENDON ROW  53.340883  -6.262542  casual_day  Autumn   \n",
       "4      CLARENDON ROW  53.340883  -6.262542  casual_day  Autumn   \n",
       "\n",
       "        date_for_merge  rain  temp  wdsp  wdsp_classified day_type  \\\n",
       "0  2013-12-04 11:00:00   0.0   8.5  12.0  Moderate breeze  Weekday   \n",
       "1  2014-10-16 06:00:00   0.0   8.5   5.0     Light breeze  Weekday   \n",
       "2  2014-10-16 06:00:00   0.0   8.5   5.0     Light breeze  Weekday   \n",
       "3  2014-10-16 06:00:00   0.0   8.5   5.0     Light breeze  Weekday   \n",
       "4  2014-10-16 06:00:00   0.0   8.5   5.0     Light breeze  Weekday   \n",
       "\n",
       "  classified_time      cluster_group  bike_arr_dep  bike_arr  bike_dep  \\\n",
       "0       6AM-10AM    6AM-10AM Weekday         -34.0       0.0     -34.0   \n",
       "1      Overnight   Overnight Weekday           2.0       2.0       0.0   \n",
       "2       6AM-10AM    6AM-10AM Weekday           1.0       1.0       0.0   \n",
       "3       6AM-10AM    6AM-10AM Weekday           1.0       1.0       0.0   \n",
       "4       6AM-10AM    6AM-10AM Weekday           2.0       2.0       0.0   \n",
       "\n",
       "   interactions  Cluster activity_type  cluster_interaction_mean  rebalance  \n",
       "0          34.0        0   rebalancing                       2.0       32.0  \n",
       "1           2.0        0        rental                       2.0        0.0  \n",
       "2           1.0        0        rental                       2.0        0.0  \n",
       "3           1.0        0        rental                       2.0        0.0  \n",
       "4           2.0        0        rental                       3.0        0.0  "
      ]
     },
     "execution_count": 2,
     "metadata": {},
     "output_type": "execute_result"
    }
   ],
   "source": [
    "d = pd.read_csv('/Users/sreevathsadb/Masters/Project/Data/Bike_Trips_2013_2018.csv')\n",
    "d.head(5)"
   ]
  },
  {
   "cell_type": "code",
   "execution_count": 3,
   "id": "e35bb24d",
   "metadata": {},
   "outputs": [
    {
     "data": {
      "text/html": [
       "<div>\n",
       "<style scoped>\n",
       "    .dataframe tbody tr th:only-of-type {\n",
       "        vertical-align: middle;\n",
       "    }\n",
       "\n",
       "    .dataframe tbody tr th {\n",
       "        vertical-align: top;\n",
       "    }\n",
       "\n",
       "    .dataframe thead th {\n",
       "        text-align: right;\n",
       "    }\n",
       "</style>\n",
       "<table border=\"1\" class=\"dataframe\">\n",
       "  <thead>\n",
       "    <tr style=\"text-align: right;\">\n",
       "      <th></th>\n",
       "      <th>transformed_trips</th>\n",
       "      <th>trips</th>\n",
       "      <th>trips_2</th>\n",
       "    </tr>\n",
       "  </thead>\n",
       "  <tbody>\n",
       "    <tr>\n",
       "      <th>761</th>\n",
       "      <td>4892.0</td>\n",
       "      <td>5453.0</td>\n",
       "      <td>29735209.0</td>\n",
       "    </tr>\n",
       "    <tr>\n",
       "      <th>1039</th>\n",
       "      <td>5213.0</td>\n",
       "      <td>5933.0</td>\n",
       "      <td>35200489.0</td>\n",
       "    </tr>\n",
       "    <tr>\n",
       "      <th>711</th>\n",
       "      <td>5193.0</td>\n",
       "      <td>5911.0</td>\n",
       "      <td>34939921.0</td>\n",
       "    </tr>\n",
       "    <tr>\n",
       "      <th>1450</th>\n",
       "      <td>5749.0</td>\n",
       "      <td>6558.0</td>\n",
       "      <td>43007364.0</td>\n",
       "    </tr>\n",
       "    <tr>\n",
       "      <th>836</th>\n",
       "      <td>5301.0</td>\n",
       "      <td>5950.0</td>\n",
       "      <td>35402500.0</td>\n",
       "    </tr>\n",
       "  </tbody>\n",
       "</table>\n",
       "</div>"
      ],
      "text/plain": [
       "      transformed_trips   trips     trips_2\n",
       "761              4892.0  5453.0  29735209.0\n",
       "1039             5213.0  5933.0  35200489.0\n",
       "711              5193.0  5911.0  34939921.0\n",
       "1450             5749.0  6558.0  43007364.0\n",
       "836              5301.0  5950.0  35402500.0"
      ]
     },
     "execution_count": 3,
     "metadata": {},
     "output_type": "execute_result"
    }
   ],
   "source": [
    "#### Data Preparation for iDAM model\n",
    "\n",
    "trips_per_day = d.groupby(['year','month','day'])['interactions', 'rebalance','bike_arr_dep'].sum().reset_index()\n",
    "trips_per_day['trips'] = trips_per_day['interactions']/2\n",
    "trips_per_day['transformed_trips'] = (trips_per_day['interactions'] + abs(trips_per_day['bike_arr_dep']) - trips_per_day['rebalance'])/2\n",
    "trips_per_day['transformed_trips']  = trips_per_day['transformed_trips'].apply(np.ceil)\n",
    "df_idam = trips_per_day[['transformed_trips','trips']]\n",
    "df_idam['trips']  = df_idam['trips'].apply(np.ceil)\n",
    "df_idam['trips_2'] = df_idam['trips'] * df_idam['trips']\n",
    "df_idam.sample(5)"
   ]
  },
  {
   "cell_type": "markdown",
   "id": "6c83f247",
   "metadata": {},
   "source": [
    "### IDAM Model\n",
    "\n",
    "individual DAM : Td =  0 +  b1*TzDd + b2*(TzDd)^2 \\\n",
    "\n",
    "    Td = Number of transformed trips per day([interactions + internal collisions -rebalance]/2) \\\n",
    "    TzDd = trips per day \\\n",
    "    TzDd^2 = TzDd*TzDd \\\n",
    "    b1,b2 = coefficients \\\n",
    "    \n",
    "The quadratic factor (TzDd)^2 compensates for collisions for days of higher activity. Note that we lock the intercept to the origin. This prevents negative estimates, an undesired effect of a linear model on count data, in our application of individual BSS data sets. We expect b1 to be close to one when DAM is applied to synthetic data, but less than one for Tx10d data to compensate for rebalancing.\n"
   ]
  },
  {
   "cell_type": "markdown",
   "id": "702af2c3",
   "metadata": {},
   "source": [
    "## Assumptions for Linear Regression"
   ]
  },
  {
   "cell_type": "markdown",
   "id": "2be6aa1a",
   "metadata": {},
   "source": [
    "Linear regression is an analysis that assesses whether one or more predictor variables explain the dependent (criterion) variable.  The regression has five key assumptions:\n",
    "\n",
    "1) Linear relationship. \n",
    "\n",
    "2) Normality. \n",
    "\n",
    "3) Homoscedasticity.\n",
    "\n",
    "4) No auto-correlation."
   ]
  },
  {
   "cell_type": "markdown",
   "id": "6c54258c",
   "metadata": {},
   "source": [
    "### Linearity"
   ]
  },
  {
   "cell_type": "code",
   "execution_count": 4,
   "id": "42f8a53e",
   "metadata": {},
   "outputs": [
    {
     "data": {
      "image/png": "[encoded data removed]",
      "text/plain": [
       "<Figure size 540x540 with 12 Axes>"
      ]
     },
     "metadata": {
      "needs_background": "light"
     },
     "output_type": "display_data"
    }
   ],
   "source": [
    "### Pairs Plot\n",
    "p = sns.pairplot(df_idam)"
   ]
  },
  {
   "cell_type": "markdown",
   "id": "647783c2",
   "metadata": {},
   "source": [
    "From the above plot we can see that there is linear relationship between tranformed_trip(response) and the trips(predictor). So the Linearity assumption is satisfied."
   ]
  },
  {
   "cell_type": "markdown",
   "id": "768043cc",
   "metadata": {},
   "source": [
    "### Training and Testing IDAM Model"
   ]
  },
  {
   "cell_type": "code",
   "execution_count": 5,
   "id": "c315406c",
   "metadata": {},
   "outputs": [
    {
     "name": "stdout",
     "output_type": "stream",
     "text": [
      "                                 OLS Regression Results                                \n",
      "=======================================================================================\n",
      "Dep. Variable:      transformed_trips   R-squared (uncentered):                   0.999\n",
      "Model:                            OLS   Adj. R-squared (uncentered):              0.999\n",
      "Method:                 Least Squares   F-statistic:                          8.705e+05\n",
      "Date:                Tue, 26 Jul 2022   Prob (F-statistic):                        0.00\n",
      "Time:                        10:37:09   Log-Likelihood:                         -6563.1\n",
      "No. Observations:                1072   AIC:                                  1.313e+04\n",
      "Df Residuals:                    1070   BIC:                                  1.314e+04\n",
      "Df Model:                           2                                                  \n",
      "Covariance Type:            nonrobust                                                  \n",
      "==============================================================================\n",
      "                 coef    std err          t      P>|t|      [0.025      0.975]\n",
      "------------------------------------------------------------------------------\n",
      "trips          1.0048      0.004    270.261      0.000       0.997       1.012\n",
      "trips_2    -2.064e-05    6.7e-07    -30.822      0.000    -2.2e-05   -1.93e-05\n",
      "==============================================================================\n",
      "Omnibus:                      220.705   Durbin-Watson:                   1.989\n",
      "Prob(Omnibus):                  0.000   Jarque-Bera (JB):              700.249\n",
      "Skew:                          -1.003   Prob(JB):                    8.77e-153\n",
      "Kurtosis:                       6.414   Cond. No.                     3.05e+04\n",
      "==============================================================================\n",
      "\n",
      "Notes:\n",
      "[1] R² is computed without centering (uncentered) since the model does not contain a constant.\n",
      "[2] Standard Errors assume that the covariance matrix of the errors is correctly specified.\n",
      "[3] The condition number is large, 3.05e+04. This might indicate that there are\n",
      "strong multicollinearity or other numerical problems.\n"
     ]
    }
   ],
   "source": [
    "xtrain, xtest, ytrain, ytest = train_test_split(df_idam,df_idam, test_size = 0.3,random_state=0)\n",
    "idam_model = smf.ols(formula='transformed_trips ~ 0 + trips + trips_2', data=xtrain).fit()\n",
    "y_pred = idam_model.predict(xtest)\n",
    "print(idam_model.summary())"
   ]
  },
  {
   "cell_type": "markdown",
   "id": "11abccdf",
   "metadata": {},
   "source": [
    "### Mean of Residuals\n",
    "Residuals as we know are the differences between the true value and the predicted value. One of the assumptions of linear regression is that the mean of the residuals should be zero. So let's find out."
   ]
  },
  {
   "cell_type": "code",
   "execution_count": 6,
   "id": "28cc6c01",
   "metadata": {},
   "outputs": [
    {
     "name": "stdout",
     "output_type": "stream",
     "text": [
      "Mean of Residuals -1.767655684518389\n",
      "NRMSE 0.025228254312893546\n"
     ]
    }
   ],
   "source": [
    "residuals = xtest['transformed_trips']-y_pred\n",
    "mean_residuals = np.mean(residuals)\n",
    "print(\"Mean of Residuals {}\".format(mean_residuals))\n",
    "print(\"NRMSE {}\".format(np.sqrt(mean_squared_error(xtest['transformed_trips'], y_pred))/(xtest['transformed_trips'].mean())))\n"
   ]
  },
  {
   "cell_type": "markdown",
   "id": "f1935791",
   "metadata": {},
   "source": [
    "### Detecting heteroscedasticity!\n",
    "\n",
    "Homoscedasticity means that the residuals have equal or almost equal variance across the regression line. By plotting the error terms with predicted terms we can check that there should not be any pattern in the error terms."
   ]
  },
  {
   "cell_type": "code",
   "execution_count": 7,
   "id": "f7612c0a",
   "metadata": {},
   "outputs": [
    {
     "data": {
      "image/png": "[encoded data removed]",
      "text/plain": [
       "<Figure size 432x288 with 1 Axes>"
      ]
     },
     "metadata": {
      "needs_background": "light"
     },
     "output_type": "display_data"
    }
   ],
   "source": [
    "p = sns.scatterplot(y_pred,residuals)\n",
    "plt.xlabel('y_pred/predicted values')\n",
    "plt.ylabel('Residuals')\n",
    "plt.ylim(-900,900)\n",
    "plt.xlim(17,6000)\n",
    "p = sns.lineplot([17,6000],[0,0],color='blue')\n",
    "p = plt.title('Residuals vs fitted values plot for homoscedasticity check')"
   ]
  },
  {
   "cell_type": "markdown",
   "id": "69c8fff5",
   "metadata": {},
   "source": [
    "Checking heteroscedasticity : Using Goldfeld Quandt we test for heteroscedasticity.\n",
    "\n",
    "Null Hypothesis: Error terms are homoscedastic.\n",
    "\n",
    "Alternative Hypothesis: Error terms are heteroscedastic."
   ]
  },
  {
   "cell_type": "code",
   "execution_count": 8,
   "id": "b162b63a",
   "metadata": {},
   "outputs": [
    {
     "data": {
      "text/plain": [
       "[('F statistic', 0.8922233234207652), ('p-value', 0.8050498149250729)]"
      ]
     },
     "execution_count": 8,
     "metadata": {},
     "output_type": "execute_result"
    }
   ],
   "source": [
    "X_train =  xtest.drop([\"transformed_trips\"],axis=1)\n",
    "import statsmodels.stats.api as sms\n",
    "from statsmodels.compat import lzip\n",
    "name = ['F statistic', 'p-value']\n",
    "test = sms.het_goldfeldquandt(residuals, X_train)\n",
    "lzip(name, test)"
   ]
  },
  {
   "cell_type": "markdown",
   "id": "c9173ee7",
   "metadata": {},
   "source": [
    "Since p value is more than 0.05 in Goldfeld Quandt Test, we can't reject it's null hypothesis that error terms are homoscedastic. Good"
   ]
  },
  {
   "cell_type": "markdown",
   "id": "7eff54e7",
   "metadata": {},
   "source": [
    "### Check for Normality of error terms/residuals"
   ]
  },
  {
   "cell_type": "code",
   "execution_count": 9,
   "id": "80acdb0c",
   "metadata": {},
   "outputs": [
    {
     "data": {
      "image/png": "[encoded data removed]",
      "text/plain": [
       "<Figure size 432x288 with 1 Axes>"
      ]
     },
     "metadata": {
      "needs_background": "light"
     },
     "output_type": "display_data"
    }
   ],
   "source": [
    "p = sns.distplot(residuals,kde=True)\n",
    "p = plt.title('Normality of error terms/residuals')"
   ]
  },
  {
   "cell_type": "markdown",
   "id": "5c904b89",
   "metadata": {},
   "source": [
    "The residual terms are pretty much normally distributed for the number of test points we took. Remember the central limit theorem which says that as the sample size increases the distribution tends to be normal. A skew is also visible from the plot. It's very difficult to get perfect curves, distributions in real life data."
   ]
  },
  {
   "cell_type": "markdown",
   "id": "d9533195",
   "metadata": {},
   "source": [
    "### Autocorrelation of residuals\n",
    "\n",
    "When the residuals are autocorrelated, it means that the current value is dependent of the previous (historic) values and that there is a definite unexplained pattern in the Y variable that shows up in the error terms. Though it is more evident in time series data."
   ]
  },
  {
   "cell_type": "markdown",
   "id": "c842e30a",
   "metadata": {},
   "source": [
    "Checking for autocorrelation To ensure the absence of autocorrelation we use \\             test.\n",
    "\n",
    "Null Hypothesis: Autocorrelation is absent.\n",
    "\n",
    "Alternative Hypothesis: Autocorrelation is present."
   ]
  },
  {
   "cell_type": "code",
   "execution_count": 10,
   "id": "dd91b4d0",
   "metadata": {},
   "outputs": [
    {
     "data": {
      "text/plain": [
       "0.10683730640501404"
      ]
     },
     "execution_count": 10,
     "metadata": {},
     "output_type": "execute_result"
    }
   ],
   "source": [
    "from statsmodels.stats import diagnostic as diag\n",
    "min(diag.acorr_ljungbox(residuals , lags = 40)[1])"
   ]
  },
  {
   "cell_type": "markdown",
   "id": "a0b95b76",
   "metadata": {},
   "source": [
    "Since p value is greater than 0.05 we fail to reject null hypothesis. Hence Auto Correlation is not present which is Good"
   ]
  },
  {
   "cell_type": "code",
   "execution_count": 11,
   "id": "bcd3c8aa",
   "metadata": {},
   "outputs": [
    {
     "data": {
      "image/png": "[encoded data removed]",
      "text/plain": [
       "<Figure size 432x288 with 1 Axes>"
      ]
     },
     "metadata": {
      "needs_background": "light"
     },
     "output_type": "display_data"
    }
   ],
   "source": [
    "sm.graphics.tsa.plot_acf(residuals, lags=40)\n",
    "plt.show()"
   ]
  },
  {
   "cell_type": "code",
   "execution_count": 12,
   "id": "c2f1cb5e",
   "metadata": {},
   "outputs": [
    {
     "data": {
      "image/png": "[encoded data removed]",
      "text/plain": [
       "<Figure size 432x288 with 1 Axes>"
      ]
     },
     "metadata": {
      "needs_background": "light"
     },
     "output_type": "display_data"
    }
   ],
   "source": [
    "sm.graphics.tsa.plot_pacf(residuals, lags=40)\n",
    "plt.show()"
   ]
  },
  {
   "cell_type": "markdown",
   "id": "db4f95f2",
   "metadata": {},
   "source": [
    "There results doesn't show any auto correlation, as we couldnt see any spikes outsided the blue confidence interval region."
   ]
  },
  {
   "cell_type": "markdown",
   "id": "18b559b5",
   "metadata": {},
   "source": [
    "Reference : https://www.kaggle.com/code/shrutimechlearn/step-by-step-assumptions-linear-regression/notebook"
   ]
  }
 ],
 "metadata": {
  "kernelspec": {
   "display_name": "Python 3 (ipykernel)",
   "language": "python",
   "name": "python3"
  },
  "language_info": {
   "codemirror_mode": {
    "name": "ipython",
    "version": 3
   },
   "file_extension": ".py",
   "mimetype": "text/x-python",
   "name": "python",
   "nbconvert_exporter": "python",
   "pygments_lexer": "ipython3",
   "version": "3.9.7"
  }
 },
 "nbformat": 4,
 "nbformat_minor": 5
}
