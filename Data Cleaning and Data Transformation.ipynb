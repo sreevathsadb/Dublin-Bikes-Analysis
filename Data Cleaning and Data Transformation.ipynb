{
 "cells": [
  {
   "cell_type": "code",
   "execution_count": 1,
   "id": "46d40837",
   "metadata": {},
   "outputs": [
    {
     "name": "stderr",
     "output_type": "stream",
     "text": [
      "/Users/sreevathsadb/opt/anaconda3/lib/python3.9/site-packages/geopandas/_compat.py:111: UserWarning: The Shapely GEOS version (3.10.2-CAPI-1.16.0) is incompatible with the GEOS version PyGEOS was compiled with (3.10.1-CAPI-1.16.0). Conversions between both will be slow.\n",
      "  warnings.warn(\n"
     ]
    }
   ],
   "source": [
    "### Importing libraries \n",
    "import holidays\n",
    "import pandas as pd\n",
    "import glob\n",
    "import numpy as np\n",
    "from datetime import datetime\n",
    "import seaborn as sns\n",
    "import matplotlib.pyplot as plt\n",
    "import folium\n",
    "pd.set_option(\"display.max_columns\",1000)\n",
    "pd.set_option('display.max_rows', 17544) \n",
    "import matplotlib as mpl\n",
    "from matplotlib import colors\n",
    "import geopandas as gpd\n",
    "import calendar\n",
    "%matplotlib inline\n",
    "%config InlineBackend.figure_format = 'retina'\n",
    "path = \"/Users/sreevathsadb/Masters/Project/Data/\""
   ]
  },
  {
   "cell_type": "markdown",
   "id": "0d11499d",
   "metadata": {},
   "source": [
    "# Importing Historical dataset and creating new columns"
   ]
  },
  {
   "cell_type": "code",
   "execution_count": 2,
   "id": "9c04064e",
   "metadata": {},
   "outputs": [
    {
     "data": {
      "text/plain": [
       "Index(['tfl_id', 'bikes', 'spaces', 'total_docks', 'timestamp', 'TIME', 'year',\n",
       "       'month', 'day', 'hour', 'minute', 'weekday'],\n",
       "      dtype='object')"
      ]
     },
     "execution_count": 2,
     "metadata": {},
     "output_type": "execute_result"
    }
   ],
   "source": [
    "df_11_18 = pd.read_csv(path + 'old/db_11_19.csv')\n",
    "\n",
    "### Converting Time column into Timestamp datatype\n",
    "df_11_18['TIME'] = pd.to_datetime(df_11_18['timestamp'], format='%Y-%m-%d %H:%M:%S')\n",
    "\n",
    "#creating year, month, day, hour, minute, weekday columns for further data analysis and visualisation\n",
    "\n",
    "df_11_18['year'] = pd.DatetimeIndex(df_11_18['timestamp']).year\n",
    "df_11_18['month'] = pd.DatetimeIndex(df_11_18['timestamp']).month\n",
    "df_11_18['day'] = pd.DatetimeIndex(df_11_18['timestamp']).day\n",
    "df_11_18['hour'] = pd.DatetimeIndex(df_11_18['timestamp']).hour\n",
    "df_11_18['minute'] = pd.DatetimeIndex(df_11_18['timestamp']).minute\n",
    "df_11_18['weekday'] = pd.DatetimeIndex(df_11_18['timestamp']).weekday\n",
    "\n",
    "### Removing the 2019 dataset as we have complete dataset in latest file which is done in next steps\n",
    "\n",
    "df_11_18 = df_11_18[df_11_18['year']!=2019]\n",
    "df_11_18.columns"
   ]
  },
  {
   "cell_type": "code",
   "execution_count": 3,
   "id": "dd9979c1",
   "metadata": {},
   "outputs": [
    {
     "data": {
      "text/html": [
       "<div>\n",
       "<style scoped>\n",
       "    .dataframe tbody tr th:only-of-type {\n",
       "        vertical-align: middle;\n",
       "    }\n",
       "\n",
       "    .dataframe tbody tr th {\n",
       "        vertical-align: top;\n",
       "    }\n",
       "\n",
       "    .dataframe thead th {\n",
       "        text-align: right;\n",
       "    }\n",
       "</style>\n",
       "<table border=\"1\" class=\"dataframe\">\n",
       "  <thead>\n",
       "    <tr style=\"text-align: right;\">\n",
       "      <th></th>\n",
       "      <th>tfl_id</th>\n",
       "      <th>bikes</th>\n",
       "      <th>spaces</th>\n",
       "      <th>total_docks</th>\n",
       "      <th>timestamp</th>\n",
       "      <th>TIME</th>\n",
       "      <th>year</th>\n",
       "      <th>month</th>\n",
       "      <th>day</th>\n",
       "      <th>hour</th>\n",
       "      <th>minute</th>\n",
       "      <th>weekday</th>\n",
       "    </tr>\n",
       "  </thead>\n",
       "  <tbody>\n",
       "    <tr>\n",
       "      <th>4377079</th>\n",
       "      <td>14</td>\n",
       "      <td>0</td>\n",
       "      <td>30</td>\n",
       "      <td>0</td>\n",
       "      <td>2012-11-23 03:50:02</td>\n",
       "      <td>2012-11-23 03:50:02</td>\n",
       "      <td>2012</td>\n",
       "      <td>11</td>\n",
       "      <td>23</td>\n",
       "      <td>3</td>\n",
       "      <td>50</td>\n",
       "      <td>4</td>\n",
       "    </tr>\n",
       "    <tr>\n",
       "      <th>4021537</th>\n",
       "      <td>3</td>\n",
       "      <td>0</td>\n",
       "      <td>20</td>\n",
       "      <td>0</td>\n",
       "      <td>2012-09-27 18:10:02</td>\n",
       "      <td>2012-09-27 18:10:02</td>\n",
       "      <td>2012</td>\n",
       "      <td>9</td>\n",
       "      <td>27</td>\n",
       "      <td>18</td>\n",
       "      <td>10</td>\n",
       "      <td>3</td>\n",
       "    </tr>\n",
       "    <tr>\n",
       "      <th>8565575</th>\n",
       "      <td>29</td>\n",
       "      <td>28</td>\n",
       "      <td>1</td>\n",
       "      <td>0</td>\n",
       "      <td>2014-06-21 21:10:02</td>\n",
       "      <td>2014-06-21 21:10:02</td>\n",
       "      <td>2014</td>\n",
       "      <td>6</td>\n",
       "      <td>21</td>\n",
       "      <td>21</td>\n",
       "      <td>10</td>\n",
       "      <td>5</td>\n",
       "    </tr>\n",
       "    <tr>\n",
       "      <th>3239421</th>\n",
       "      <td>36</td>\n",
       "      <td>0</td>\n",
       "      <td>30</td>\n",
       "      <td>0</td>\n",
       "      <td>2012-05-26 18:50:01</td>\n",
       "      <td>2012-05-26 18:50:01</td>\n",
       "      <td>2012</td>\n",
       "      <td>5</td>\n",
       "      <td>26</td>\n",
       "      <td>18</td>\n",
       "      <td>50</td>\n",
       "      <td>5</td>\n",
       "    </tr>\n",
       "    <tr>\n",
       "      <th>9829174</th>\n",
       "      <td>28</td>\n",
       "      <td>30</td>\n",
       "      <td>0</td>\n",
       "      <td>0</td>\n",
       "      <td>2014-09-25 04:50:02</td>\n",
       "      <td>2014-09-25 04:50:02</td>\n",
       "      <td>2014</td>\n",
       "      <td>9</td>\n",
       "      <td>25</td>\n",
       "      <td>4</td>\n",
       "      <td>50</td>\n",
       "      <td>3</td>\n",
       "    </tr>\n",
       "  </tbody>\n",
       "</table>\n",
       "</div>"
      ],
      "text/plain": [
       "         tfl_id  bikes  spaces  total_docks            timestamp  \\\n",
       "4377079      14      0      30            0  2012-11-23 03:50:02   \n",
       "4021537       3      0      20            0  2012-09-27 18:10:02   \n",
       "8565575      29     28       1            0  2014-06-21 21:10:02   \n",
       "3239421      36      0      30            0  2012-05-26 18:50:01   \n",
       "9829174      28     30       0            0  2014-09-25 04:50:02   \n",
       "\n",
       "                       TIME  year  month  day  hour  minute  weekday  \n",
       "4377079 2012-11-23 03:50:02  2012     11   23     3      50        4  \n",
       "4021537 2012-09-27 18:10:02  2012      9   27    18      10        3  \n",
       "8565575 2014-06-21 21:10:02  2014      6   21    21      10        5  \n",
       "3239421 2012-05-26 18:50:01  2012      5   26    18      50        5  \n",
       "9829174 2014-09-25 04:50:02  2014      9   25     4      50        3  "
      ]
     },
     "execution_count": 3,
     "metadata": {},
     "output_type": "execute_result"
    }
   ],
   "source": [
    "# Indentifying the noisy data where few observation's total_docks values were set to zero\n",
    "df_11_18[df_11_18['total_docks']==0].sample(5)"
   ]
  },
  {
   "cell_type": "code",
   "execution_count": 4,
   "id": "b4a234c0",
   "metadata": {},
   "outputs": [],
   "source": [
    "# simple imputation method was performed on incorrect data by summing the number of bikes and the number of docks available for each row\n",
    "df_11_18['total_docks'] = df_11_18['bikes'] + df_11_18['spaces']"
   ]
  },
  {
   "cell_type": "code",
   "execution_count": 5,
   "id": "c6c2da30",
   "metadata": {},
   "outputs": [
    {
     "data": {
      "text/plain": [
       "array([  17,   15,   18,    1,   19,    6,    2,   23,   21,   22,   20,\n",
       "         40,   39,   16,   37,   38,   14,   13,   12,   11,   10,    9,\n",
       "         36,    8,   30,   29,   28,   27,   26,   25,   35,   34,    7,\n",
       "          5,    4,   32,   31,   24,    3,   33,   42,   41,   43,   44,\n",
       "       5001,   65,   45,   46,   54,   48,   63,   52,   56,   51,   57,\n",
       "         66,   67,   64,   62,   69,   68,   90,   59,   60,   99,   53,\n",
       "         58,   61,   89,   70,   91,   73,   88,   72,   74,   79,   82,\n",
       "         81,   84,   83,   85,   98,   77,  101,   96,  102,   80,   76,\n",
       "         78,   87,   86,  100,   93,   71,   94,   92,   49,   75,   55,\n",
       "         95,   97,   47,  103,  104,   50,  105,  106,  107,  108,  112,\n",
       "        110,  111,  114,  113,  115,  109])"
      ]
     },
     "execution_count": 5,
     "metadata": {},
     "output_type": "execute_result"
    }
   ],
   "source": [
    "# Display Unique stations\n",
    "df_11_18['tfl_id'].unique()"
   ]
  },
  {
   "cell_type": "code",
   "execution_count": 6,
   "id": "3c410053",
   "metadata": {},
   "outputs": [],
   "source": [
    "# Selecting the station id \"5001\" which is not part of Dublin Bikes Stations\n",
    "df_11_18[df_11_18['tfl_id'] == 5001].sample(5)\n",
    "\n",
    "# Removing observations whose station id is 5001\n",
    "df_11_18 = df_11_18[df_11_18['tfl_id'] != 5001]"
   ]
  },
  {
   "cell_type": "markdown",
   "id": "c0c61109",
   "metadata": {},
   "source": [
    "# Importing Latest dataset and creating new columns"
   ]
  },
  {
   "cell_type": "code",
   "execution_count": 7,
   "id": "698cf523",
   "metadata": {},
   "outputs": [],
   "source": [
    "path = path + 'Covid_Years/' # use your path\n",
    "file_paths = glob.glob(path + \"20*\")\n",
    "combined_19_21 = []\n",
    "\n",
    "#Reading all the csv files present in the path and append to new dataframe\n",
    "\n",
    "for filename in file_paths:\n",
    "    df_19_22 = pd.read_csv(filename, index_col=None, header=0)\n",
    "    combined_19_21.append(df_19_22)\n",
    "df_19_22 = pd.concat(combined_19_21, axis=0, ignore_index=True)"
   ]
  },
  {
   "cell_type": "code",
   "execution_count": 8,
   "id": "f56f68cb",
   "metadata": {},
   "outputs": [
    {
     "data": {
      "text/plain": [
       "Index(['STATION ID', 'TIME', 'LAST UPDATED', 'NAME', 'BIKE STANDS',\n",
       "       'AVAILABLE BIKE STANDS', 'AVAILABLE BIKES', 'STATUS', 'ADDRESS',\n",
       "       'LATITUDE', 'LONGITUDE', 'year', 'month', 'day', 'hour', 'minute',\n",
       "       'weekday'],\n",
       "      dtype='object')"
      ]
     },
     "execution_count": 8,
     "metadata": {},
     "output_type": "execute_result"
    }
   ],
   "source": [
    "### Converting Time column into Timestamp datatype\n",
    "df_19_22['TIME'] = pd.to_datetime(df_19_22['TIME'], format='%Y-%m-%d %H:%M:%S')\n",
    "#creating year, month, day, hour, minute, weekday columns for further data analysis and visualisation\n",
    "df_19_22['year'] = pd.DatetimeIndex(df_19_22['TIME']).year\n",
    "df_19_22['month'] = pd.DatetimeIndex(df_19_22['TIME']).month\n",
    "df_19_22['day'] = pd.DatetimeIndex(df_19_22['TIME']).day\n",
    "df_19_22['hour'] = pd.DatetimeIndex(df_19_22['TIME']).hour\n",
    "df_19_22['minute'] = pd.DatetimeIndex(df_19_22['TIME']).minute\n",
    "df_19_22['weekday'] = pd.DatetimeIndex(df_19_22['TIME']).weekday\n",
    "df_19_22.columns"
   ]
  },
  {
   "cell_type": "code",
   "execution_count": 9,
   "id": "e607a2a6",
   "metadata": {},
   "outputs": [],
   "source": [
    "# Selecting the station id \"507\" which is not part of Dublin Bikes Stations\n",
    "df_19_22[df_19_22['STATION ID'] == 507].sample(5)\n",
    "\n",
    "# Removing observations whose station id is 5001\n",
    "df_19_22 = df_19_22[df_19_22['STATION ID'] != 507]"
   ]
  },
  {
   "cell_type": "code",
   "execution_count": 10,
   "id": "92f2029e",
   "metadata": {},
   "outputs": [
    {
     "name": "stdout",
     "output_type": "stream",
     "text": [
      "106080\n"
     ]
    },
    {
     "data": {
      "text/html": [
       "<div>\n",
       "<style scoped>\n",
       "    .dataframe tbody tr th:only-of-type {\n",
       "        vertical-align: middle;\n",
       "    }\n",
       "\n",
       "    .dataframe tbody tr th {\n",
       "        vertical-align: top;\n",
       "    }\n",
       "\n",
       "    .dataframe thead th {\n",
       "        text-align: right;\n",
       "    }\n",
       "</style>\n",
       "<table border=\"1\" class=\"dataframe\">\n",
       "  <thead>\n",
       "    <tr style=\"text-align: right;\">\n",
       "      <th></th>\n",
       "      <th>STATION ID</th>\n",
       "      <th>TIME</th>\n",
       "      <th>LAST UPDATED</th>\n",
       "      <th>NAME</th>\n",
       "      <th>BIKE STANDS</th>\n",
       "      <th>AVAILABLE BIKE STANDS</th>\n",
       "      <th>AVAILABLE BIKES</th>\n",
       "      <th>STATUS</th>\n",
       "      <th>ADDRESS</th>\n",
       "      <th>LATITUDE</th>\n",
       "      <th>LONGITUDE</th>\n",
       "      <th>year</th>\n",
       "      <th>month</th>\n",
       "      <th>day</th>\n",
       "      <th>hour</th>\n",
       "      <th>minute</th>\n",
       "      <th>weekday</th>\n",
       "    </tr>\n",
       "  </thead>\n",
       "  <tbody>\n",
       "    <tr>\n",
       "      <th>21084677</th>\n",
       "      <td>98</td>\n",
       "      <td>2019-11-18 09:25:02</td>\n",
       "      <td>2019-11-04 12:11:53</td>\n",
       "      <td>FREDERICK STREET SOUTH</td>\n",
       "      <td>40</td>\n",
       "      <td>0</td>\n",
       "      <td>0</td>\n",
       "      <td>Close</td>\n",
       "      <td>Frederick Street South</td>\n",
       "      <td>53.341515</td>\n",
       "      <td>-6.256853</td>\n",
       "      <td>2019</td>\n",
       "      <td>11</td>\n",
       "      <td>18</td>\n",
       "      <td>9</td>\n",
       "      <td>25</td>\n",
       "      <td>0</td>\n",
       "    </tr>\n",
       "    <tr>\n",
       "      <th>28342437</th>\n",
       "      <td>35</td>\n",
       "      <td>2019-07-20 04:20:02</td>\n",
       "      <td>2019-07-20 04:10:36</td>\n",
       "      <td>SMITHFIELD</td>\n",
       "      <td>30</td>\n",
       "      <td>0</td>\n",
       "      <td>0</td>\n",
       "      <td>Close</td>\n",
       "      <td>Smithfield</td>\n",
       "      <td>53.347691</td>\n",
       "      <td>-6.278214</td>\n",
       "      <td>2019</td>\n",
       "      <td>7</td>\n",
       "      <td>20</td>\n",
       "      <td>4</td>\n",
       "      <td>20</td>\n",
       "      <td>5</td>\n",
       "    </tr>\n",
       "    <tr>\n",
       "      <th>21172514</th>\n",
       "      <td>98</td>\n",
       "      <td>2019-11-21 16:45:02</td>\n",
       "      <td>2019-11-06 09:27:47</td>\n",
       "      <td>FREDERICK STREET SOUTH</td>\n",
       "      <td>40</td>\n",
       "      <td>0</td>\n",
       "      <td>0</td>\n",
       "      <td>Close</td>\n",
       "      <td>Frederick Street South</td>\n",
       "      <td>53.341515</td>\n",
       "      <td>-6.256853</td>\n",
       "      <td>2019</td>\n",
       "      <td>11</td>\n",
       "      <td>21</td>\n",
       "      <td>16</td>\n",
       "      <td>45</td>\n",
       "      <td>3</td>\n",
       "    </tr>\n",
       "    <tr>\n",
       "      <th>32789708</th>\n",
       "      <td>46</td>\n",
       "      <td>2019-06-04 22:30:02</td>\n",
       "      <td>2019-05-29 10:09:58</td>\n",
       "      <td>STRAND STREET GREAT</td>\n",
       "      <td>20</td>\n",
       "      <td>6</td>\n",
       "      <td>0</td>\n",
       "      <td>Close</td>\n",
       "      <td>Strand Street Great</td>\n",
       "      <td>53.347080</td>\n",
       "      <td>-6.264192</td>\n",
       "      <td>2019</td>\n",
       "      <td>6</td>\n",
       "      <td>4</td>\n",
       "      <td>22</td>\n",
       "      <td>30</td>\n",
       "      <td>1</td>\n",
       "    </tr>\n",
       "    <tr>\n",
       "      <th>29333502</th>\n",
       "      <td>35</td>\n",
       "      <td>2019-08-20 09:05:02</td>\n",
       "      <td>2019-08-20 08:54:23</td>\n",
       "      <td>SMITHFIELD</td>\n",
       "      <td>30</td>\n",
       "      <td>0</td>\n",
       "      <td>0</td>\n",
       "      <td>Close</td>\n",
       "      <td>Smithfield</td>\n",
       "      <td>53.347691</td>\n",
       "      <td>-6.278214</td>\n",
       "      <td>2019</td>\n",
       "      <td>8</td>\n",
       "      <td>20</td>\n",
       "      <td>9</td>\n",
       "      <td>5</td>\n",
       "      <td>1</td>\n",
       "    </tr>\n",
       "  </tbody>\n",
       "</table>\n",
       "</div>"
      ],
      "text/plain": [
       "          STATION ID                TIME         LAST UPDATED  \\\n",
       "21084677          98 2019-11-18 09:25:02  2019-11-04 12:11:53   \n",
       "28342437          35 2019-07-20 04:20:02  2019-07-20 04:10:36   \n",
       "21172514          98 2019-11-21 16:45:02  2019-11-06 09:27:47   \n",
       "32789708          46 2019-06-04 22:30:02  2019-05-29 10:09:58   \n",
       "29333502          35 2019-08-20 09:05:02  2019-08-20 08:54:23   \n",
       "\n",
       "                            NAME  BIKE STANDS  AVAILABLE BIKE STANDS  \\\n",
       "21084677  FREDERICK STREET SOUTH           40                      0   \n",
       "28342437              SMITHFIELD           30                      0   \n",
       "21172514  FREDERICK STREET SOUTH           40                      0   \n",
       "32789708     STRAND STREET GREAT           20                      6   \n",
       "29333502              SMITHFIELD           30                      0   \n",
       "\n",
       "          AVAILABLE BIKES STATUS                 ADDRESS   LATITUDE  \\\n",
       "21084677                0  Close  Frederick Street South  53.341515   \n",
       "28342437                0  Close              Smithfield  53.347691   \n",
       "21172514                0  Close  Frederick Street South  53.341515   \n",
       "32789708                0  Close     Strand Street Great  53.347080   \n",
       "29333502                0  Close              Smithfield  53.347691   \n",
       "\n",
       "          LONGITUDE  year  month  day  hour  minute  weekday  \n",
       "21084677  -6.256853  2019     11   18     9      25        0  \n",
       "28342437  -6.278214  2019      7   20     4      20        5  \n",
       "21172514  -6.256853  2019     11   21    16      45        3  \n",
       "32789708  -6.264192  2019      6    4    22      30        1  \n",
       "29333502  -6.278214  2019      8   20     9       5        1  "
      ]
     },
     "execution_count": 10,
     "metadata": {},
     "output_type": "execute_result"
    }
   ],
   "source": [
    "#Selecting and droping the observations whose status is closed\n",
    "print(len(df_19_22[df_19_22['STATUS']=='Close']))\n",
    "df_19_22[df_19_22['STATUS']=='Close'].sample(5)"
   ]
  },
  {
   "cell_type": "code",
   "execution_count": 11,
   "id": "48bce08c",
   "metadata": {},
   "outputs": [
    {
     "name": "stdout",
     "output_type": "stream",
     "text": [
      "Before removing Closed status rows (33035469, 17)\n",
      "After moving Closed status rows (32929389, 17)\n"
     ]
    }
   ],
   "source": [
    "#Selecting and droping the observations whose status is closed\n",
    "\n",
    "print(\"Before removing Closed status rows\",df_19_22.shape)\n",
    "df_19_22 = df_19_22[df_19_22['STATUS']=='Open']\n",
    "print(\"After moving Closed status rows\",df_19_22.shape)"
   ]
  },
  {
   "cell_type": "code",
   "execution_count": 12,
   "id": "73ac10fb",
   "metadata": {},
   "outputs": [
    {
     "name": "stderr",
     "output_type": "stream",
     "text": [
      "/Users/sreevathsadb/opt/anaconda3/lib/python3.9/site-packages/pandas/core/frame.py:5039: SettingWithCopyWarning: \n",
      "A value is trying to be set on a copy of a slice from a DataFrame\n",
      "\n",
      "See the caveats in the documentation: https://pandas.pydata.org/pandas-docs/stable/user_guide/indexing.html#returning-a-view-versus-a-copy\n",
      "  return super().rename(\n"
     ]
    }
   ],
   "source": [
    "# Renaming the columns of historical and latest dublin bikes dataset to make them simliar in order to merge them for further transfoamtions and analysis. \n",
    "\n",
    "cleaned_df_19_22 = df_19_22[['STATION ID','TIME','BIKE STANDS','AVAILABLE BIKE STANDS','AVAILABLE BIKES','year','month','day','hour','minute','weekday']]\n",
    "cleaned_df_11_19 = df_11_18[['tfl_id','timestamp','total_docks','spaces','bikes','year','month','day','hour','minute','weekday']]\n",
    "\n",
    "cleaned_df_19_22.rename(columns = {'STATION ID':'id', 'TIME':'time','BIKE STANDS':'total_bike_stands','AVAILABLE BIKE STANDS':'available_bike_stands','AVAILABLE BIKES':'available_bikes'}, inplace = True)\n",
    "cleaned_df_11_19.rename(columns = {'tfl_id':'id', 'timestamp':'time','total_docks':'total_bike_stands','spaces':'available_bike_stands','bikes':'available_bikes'}, inplace = True)\n",
    "\n",
    "cleaned_df_19_22 = cleaned_df_19_22.reset_index(drop=True)\n",
    "combined_11_22 = pd.concat([cleaned_df_11_19, cleaned_df_19_22], axis=0)\n",
    "\n",
    "# Creating a categorical column that denotes day of the week.\n",
    "\n",
    "conditions = [\n",
    "    (combined_11_22['weekday'] == 0),(combined_11_22['weekday'] == 1),(combined_11_22['weekday'] == 2),\n",
    "   (combined_11_22['weekday'] == 3),(combined_11_22['weekday'] == 4),(combined_11_22['weekday'] == 5),\n",
    "   (combined_11_22['weekday'] == 6)\n",
    "    ]\n",
    "day_name= ['Monday', 'Tuesday', 'Wednesday', 'Thursday', 'Friday', 'Saturday','Sunday']\n",
    "combined_11_22['weekday'] = np.select(conditions, day_name)\n"
   ]
  },
  {
   "cell_type": "code",
   "execution_count": 13,
   "id": "8ab3c400",
   "metadata": {},
   "outputs": [
    {
     "data": {
      "text/plain": [
       "Index(['id', 'time', 'total_bike_stands', 'available_bike_stands',\n",
       "       'available_bikes', 'year', 'month', 'day', 'hour', 'minute', 'weekday'],\n",
       "      dtype='object')"
      ]
     },
     "execution_count": 13,
     "metadata": {},
     "output_type": "execute_result"
    }
   ],
   "source": [
    "combined_11_22.columns"
   ]
  },
  {
   "cell_type": "code",
   "execution_count": 14,
   "id": "e1e4646a",
   "metadata": {},
   "outputs": [
    {
     "data": {
      "text/html": [
       "<div>\n",
       "<style scoped>\n",
       "    .dataframe tbody tr th:only-of-type {\n",
       "        vertical-align: middle;\n",
       "    }\n",
       "\n",
       "    .dataframe tbody tr th {\n",
       "        vertical-align: top;\n",
       "    }\n",
       "\n",
       "    .dataframe thead th {\n",
       "        text-align: right;\n",
       "    }\n",
       "</style>\n",
       "<table border=\"1\" class=\"dataframe\">\n",
       "  <thead>\n",
       "    <tr style=\"text-align: right;\">\n",
       "      <th></th>\n",
       "      <th>id</th>\n",
       "      <th>time</th>\n",
       "      <th>total_bike_stands</th>\n",
       "      <th>available_bike_stands</th>\n",
       "      <th>available_bikes</th>\n",
       "      <th>year</th>\n",
       "      <th>month</th>\n",
       "      <th>day</th>\n",
       "      <th>hour</th>\n",
       "      <th>minute</th>\n",
       "      <th>weekday</th>\n",
       "    </tr>\n",
       "  </thead>\n",
       "  <tbody>\n",
       "    <tr>\n",
       "      <th>2194313</th>\n",
       "      <td>2</td>\n",
       "      <td>2020-04-01 00:10:02</td>\n",
       "      <td>20</td>\n",
       "      <td>9</td>\n",
       "      <td>11</td>\n",
       "      <td>2020</td>\n",
       "      <td>4</td>\n",
       "      <td>1</td>\n",
       "      <td>0</td>\n",
       "      <td>10</td>\n",
       "      <td>2</td>\n",
       "    </tr>\n",
       "    <tr>\n",
       "      <th>2194314</th>\n",
       "      <td>2</td>\n",
       "      <td>2020-04-01 00:15:02</td>\n",
       "      <td>20</td>\n",
       "      <td>9</td>\n",
       "      <td>11</td>\n",
       "      <td>2020</td>\n",
       "      <td>4</td>\n",
       "      <td>1</td>\n",
       "      <td>0</td>\n",
       "      <td>15</td>\n",
       "      <td>2</td>\n",
       "    </tr>\n",
       "    <tr>\n",
       "      <th>2194315</th>\n",
       "      <td>2</td>\n",
       "      <td>2020-04-01 00:20:02</td>\n",
       "      <td>20</td>\n",
       "      <td>9</td>\n",
       "      <td>11</td>\n",
       "      <td>2020</td>\n",
       "      <td>4</td>\n",
       "      <td>1</td>\n",
       "      <td>0</td>\n",
       "      <td>20</td>\n",
       "      <td>2</td>\n",
       "    </tr>\n",
       "    <tr>\n",
       "      <th>5168713</th>\n",
       "      <td>2</td>\n",
       "      <td>2020-04-01 00:10:02</td>\n",
       "      <td>20</td>\n",
       "      <td>9</td>\n",
       "      <td>11</td>\n",
       "      <td>2020</td>\n",
       "      <td>4</td>\n",
       "      <td>1</td>\n",
       "      <td>0</td>\n",
       "      <td>10</td>\n",
       "      <td>2</td>\n",
       "    </tr>\n",
       "    <tr>\n",
       "      <th>5168714</th>\n",
       "      <td>2</td>\n",
       "      <td>2020-04-01 00:15:02</td>\n",
       "      <td>20</td>\n",
       "      <td>9</td>\n",
       "      <td>11</td>\n",
       "      <td>2020</td>\n",
       "      <td>4</td>\n",
       "      <td>1</td>\n",
       "      <td>0</td>\n",
       "      <td>15</td>\n",
       "      <td>2</td>\n",
       "    </tr>\n",
       "    <tr>\n",
       "      <th>5168715</th>\n",
       "      <td>2</td>\n",
       "      <td>2020-04-01 00:20:02</td>\n",
       "      <td>20</td>\n",
       "      <td>9</td>\n",
       "      <td>11</td>\n",
       "      <td>2020</td>\n",
       "      <td>4</td>\n",
       "      <td>1</td>\n",
       "      <td>0</td>\n",
       "      <td>20</td>\n",
       "      <td>2</td>\n",
       "    </tr>\n",
       "  </tbody>\n",
       "</table>\n",
       "</div>"
      ],
      "text/plain": [
       "         id                time  total_bike_stands  available_bike_stands  \\\n",
       "2194313   2 2020-04-01 00:10:02                 20                      9   \n",
       "2194314   2 2020-04-01 00:15:02                 20                      9   \n",
       "2194315   2 2020-04-01 00:20:02                 20                      9   \n",
       "5168713   2 2020-04-01 00:10:02                 20                      9   \n",
       "5168714   2 2020-04-01 00:15:02                 20                      9   \n",
       "5168715   2 2020-04-01 00:20:02                 20                      9   \n",
       "\n",
       "         available_bikes  year  month  day  hour  minute  weekday  \n",
       "2194313               11  2020      4    1     0      10        2  \n",
       "2194314               11  2020      4    1     0      15        2  \n",
       "2194315               11  2020      4    1     0      20        2  \n",
       "5168713               11  2020      4    1     0      10        2  \n",
       "5168714               11  2020      4    1     0      15        2  \n",
       "5168715               11  2020      4    1     0      20        2  "
      ]
     },
     "execution_count": 14,
     "metadata": {},
     "output_type": "execute_result"
    }
   ],
   "source": [
    "### Display sample duplicate records found in the dublin bikes dataset\n",
    "\n",
    "duplicates = cleaned_df_19_22[(cleaned_df_19_22['id']==2) & (cleaned_df_19_22['year']==2020) & (cleaned_df_19_22['month']==4) & (cleaned_df_19_22['day']==1)]\n",
    "duplicates[((duplicates['hour']==0) & (duplicates['minute']==10)) | ((duplicates['hour']==0) & (duplicates['minute']==15)) | ((duplicates['hour']==0) & (duplicates['minute']==20))]"
   ]
  },
  {
   "cell_type": "code",
   "execution_count": 15,
   "id": "6dceb513",
   "metadata": {},
   "outputs": [
    {
     "name": "stdout",
     "output_type": "stream",
     "text": [
      "Before dropping Duplicates  (64956305, 11)\n",
      "After dropping Duplicates  (64686223, 11)\n"
     ]
    }
   ],
   "source": [
    "# Drop Duplicates data from mergered dataset\n",
    "print(\"Before dropping Duplicates \",combined_11_22.shape)\n",
    "combined_11_22 = combined_11_22.drop_duplicates()\n",
    "print(\"After dropping Duplicates \",combined_11_22.shape)"
   ]
  },
  {
   "cell_type": "code",
   "execution_count": 16,
   "id": "5c48cabb",
   "metadata": {},
   "outputs": [
    {
     "data": {
      "text/plain": [
       "array([ 17,  15,  18,   1,  19,   6,   2,  23,  21,  22,  20,  40,  39,\n",
       "        16,  37,  38,  14,  13,  12,  11,  10,   9,  36,   8,  30,  29,\n",
       "        28,  27,  26,  25,  35,  34,   7,   5,   4,  32,  31,  24,   3,\n",
       "        33,  42,  41,  43,  44,  65,  45,  46,  54,  48,  63,  52,  56,\n",
       "        51,  57,  66,  67,  64,  62,  69,  68,  90,  59,  60,  99,  53,\n",
       "        58,  61,  89,  70,  91,  73,  88,  72,  74,  79,  82,  81,  84,\n",
       "        83,  85,  98,  77, 101,  96, 102,  80,  76,  78,  87,  86, 100,\n",
       "        93,  71,  94,  92,  49,  75,  55,  95,  97,  47, 103, 104,  50,\n",
       "       105, 106, 107, 108, 112, 110, 111, 114, 113, 115, 109, 117, 116])"
      ]
     },
     "execution_count": 16,
     "metadata": {},
     "output_type": "execute_result"
    }
   ],
   "source": [
    "# verfifying the total station counts\n",
    "combined_11_22['id'].unique()"
   ]
  },
  {
   "cell_type": "code",
   "execution_count": 17,
   "id": "926e9835",
   "metadata": {},
   "outputs": [
    {
     "name": "stdout",
     "output_type": "stream",
     "text": [
      "     Number                  Name               Address   Latitude  Longitude\n",
      "104     111  MOUNTJOY SQUARE EAST  Mountjoy Square East  53.356717  -6.256359\n",
      "7         8     CUSTOM HOUSE QUAY     Custom House Quay  53.347884  -6.248048\n",
      "67       74    OLIVER BOND STREET    Oliver Bond Street  53.343893  -6.280531\n",
      "61       67             THE POINT             The Point  53.346867  -6.230852\n",
      "75       82           MOUNT BROWN           Mount Brown  53.341645  -6.297190\n"
     ]
    },
    {
     "data": {
      "text/plain": [
       "Index(['id', 'time', 'total_bike_stands', 'available_bike_stands',\n",
       "       'available_bikes', 'year', 'month', 'day', 'hour', 'minute', 'weekday',\n",
       "       'number', 'name', 'latitude', 'longitude'],\n",
       "      dtype='object')"
      ]
     },
     "execution_count": 17,
     "metadata": {},
     "output_type": "execute_result"
    }
   ],
   "source": [
    "# Loading dublin stations dataset which has geo-cordinates infomation and merging with original dataset\n",
    "\n",
    "dbs = pd.read_csv('/Users/sreevathsadb/Masters/Project/Data/dublin_bike_stations.csv')\n",
    "dbs = dbs.sort_values(by=['Number'])\n",
    "print(dbs.sample(5))\n",
    "\n",
    "combined_11_22 = pd.merge(combined_11_22,\n",
    "                 dbs[['Number','Name', 'Latitude', 'Longitude']],\n",
    "                 left_on = 'id', right_on = 'Number')\n",
    "combined_11_22.columns= combined_11_22.columns.str.strip().str.lower()\n",
    "combined_11_22.columns"
   ]
  },
  {
   "cell_type": "markdown",
   "id": "35bc56ae",
   "metadata": {},
   "source": [
    "### Irish public holidays"
   ]
  },
  {
   "cell_type": "code",
   "execution_count": 18,
   "id": "d5bea084",
   "metadata": {},
   "outputs": [
    {
     "data": {
      "text/plain": [
       "Index(['id', 'time', 'total_bike_stands', 'available_bike_stands',\n",
       "       'available_bikes', 'year', 'month', 'day', 'hour', 'minute', 'weekday',\n",
       "       'number', 'name', 'latitude', 'longitude', 'holiday'],\n",
       "      dtype='object')"
      ]
     },
     "execution_count": 18,
     "metadata": {},
     "output_type": "execute_result"
    }
   ],
   "source": [
    "# Holidays is a python library that generating country- and subdivision- (e.g. state or province) specific sets of government-designated holidays on the fly\n",
    "\n",
    "# Using Holidays library importing list of irish public holidays and create a new columns that has public holiday information\n",
    "\n",
    "d = []\n",
    "h = []\n",
    "\n",
    "# Generating irish public holiday information and storing in variable\n",
    "\n",
    "for year in range(2010,2023):\n",
    "    for ptr in holidays.Ireland(years = year).items():\n",
    "        d.append(ptr)\n",
    "    \n",
    "holiday = pd.DataFrame(d)\n",
    "holiday.columns = ['timestamp', 'holiday']\n",
    "\n",
    "# Creating year, day , month for holiday dataframe\n",
    "holiday['year'] = pd.DatetimeIndex(holiday['timestamp']).year\n",
    "holiday['day'] = pd.DatetimeIndex(holiday['timestamp']).day\n",
    "holiday['month'] = pd.DatetimeIndex(holiday['timestamp']).month\n",
    "\n",
    "# Creating a column called \"holidays\" in original dataset by merging holiday information with original dataset\"\n",
    "combined_11_22 = pd.merge(combined_11_22,holiday,how='left',left_on=['year','month','day'], right_on = ['year','month','day'])\n",
    "combined_11_22 = combined_11_22.drop(['timestamp'], axis=1)\n",
    "conditions = [\n",
    "    (combined_11_22['holiday'].isnull())]\n",
    "\n",
    "choices_holiday_ind = [0]\n",
    "choices_holiday = ['casual_day']\n",
    "combined_11_22['holiday'] = np.select(conditions, choices_holiday, default=combined_11_22['holiday'])\n",
    "combined_11_22.columns"
   ]
  },
  {
   "cell_type": "markdown",
   "id": "5cc7c563",
   "metadata": {},
   "source": [
    "### Seasons information"
   ]
  },
  {
   "cell_type": "markdown",
   "id": "0b532947",
   "metadata": {},
   "source": [
    "### Adding Season Column to dataset\n",
    "\n",
    "##### https://www.bbc.com/news/uk-northern-ireland-45371322\n",
    "\n",
    "\n",
    "https://www.met.ie/cms/assets/uploads/2021/02/YP-Fun-Facts-Meteorological-Seasons.pdf"
   ]
  },
  {
   "cell_type": "code",
   "execution_count": 19,
   "id": "1fb04b94",
   "metadata": {},
   "outputs": [],
   "source": [
    "### Creating seasons column on basis Irish Weather using months column\n",
    "#References: \n",
    "### https://www.bbc.com/news/uk-northern-ireland-45371322\n",
    "### https://www.met.ie/cms/assets/uploads/2021/02/YP-Fun-Facts-Meteorological-Seasons.pdf\n",
    "conditions = [\n",
    "    (combined_11_22['month'] == 12) | (combined_11_22['month'] == 1) | (combined_11_22['month'] == 2),\n",
    "   (combined_11_22['month'] == 3) | (combined_11_22['month'] == 4) | (combined_11_22['month'] == 5),\n",
    "    (combined_11_22['month'] == 6) | (combined_11_22['month'] == 7) | (combined_11_22['month'] == 8),\n",
    "   (combined_11_22['month'] == 9) | (combined_11_22['month'] == 10) | (combined_11_22['month'] == 11)\n",
    "    ]\n",
    "values = ['Winter', 'Spring', 'Summer', 'Autumn']\n",
    "combined_11_22['season'] = np.select(conditions, values)"
   ]
  },
  {
   "cell_type": "code",
   "execution_count": 20,
   "id": "14cf6221",
   "metadata": {},
   "outputs": [],
   "source": [
    "combined_11_22.rename(columns = {'time':'timestamp'}, inplace = True)\n",
    "combined_11_22['timestamp'] = pd.to_datetime(combined_11_22['timestamp'])\n",
    "combined_11_22['date_for_merge'] = combined_11_22['timestamp'].dt.round('H')"
   ]
  },
  {
   "cell_type": "markdown",
   "id": "8dfa7541",
   "metadata": {},
   "source": [
    "### Weather Information (Wind,Rain,Temp) and classifying wind according to Beaufort Scale"
   ]
  },
  {
   "cell_type": "code",
   "execution_count": 21,
   "id": "6f30eed2",
   "metadata": {},
   "outputs": [
    {
     "name": "stderr",
     "output_type": "stream",
     "text": [
      "/Users/sreevathsadb/opt/anaconda3/lib/python3.9/site-packages/IPython/core/interactiveshell.py:3444: DtypeWarning: Columns (8,9,14) have mixed types.Specify dtype option on import or set low_memory=False.\n",
      "  exec(code_obj, self.user_global_ns, self.user_ns)\n"
     ]
    }
   ],
   "source": [
    "# Loading Hourly weather dataset for Dublin\n",
    "weather = pd.read_csv('/Users/sreevathsadb/Masters/Project/Data/hly532.csv')\n",
    "\n",
    "# Creating date, year, month columns for weather dataset\n",
    "weather['date'] = pd.to_datetime(weather['date'])\n",
    "weather['year'] = pd.DatetimeIndex(weather['date']).year\n",
    "weather['month'] = pd.DatetimeIndex(weather['date']).month\n",
    "weather = weather[(weather['year']>2009)]\n",
    "#weather = weather[(weather['year']<=2022) & (weather['month']<4)]\n",
    "\n",
    "# Selecting on only 'date','year','month','rain','temp','wdsp'\n",
    "weather = weather[['date','year','month','rain','temp','wdsp']]\n",
    "\n",
    "# Creating a joining key for mergig weather informatio to original dataset\n",
    "weather['date_for_merge'] = weather['date'].dt.round('H')\n",
    "weather['date_i'] = weather['date'].dt.date\n",
    "\n",
    "# Convert 'rain','temp','wdsp' to float\n",
    "weather['wdsp'] = weather['wdsp'].astype(float)\n",
    "weather['rain'] = weather['rain'].astype(float)\n",
    "weather['temp'] = weather['temp'].astype(float)\n",
    "\n",
    "# Creating a Categorical column to indicate the level of windspeed (Beaufort Scale).\n",
    "conditions = [\n",
    "    (weather['wdsp'] < 1),\n",
    "    ((weather['wdsp'] >=1) & (weather['wdsp'] <= 3)),\n",
    "    ((weather['wdsp'] >=4) & (weather['wdsp'] <= 6)),\n",
    "    ((weather['wdsp'] >=7) & (weather['wdsp'] <= 10)),\n",
    "    ((weather['wdsp'] >=11) & (weather['wdsp'] <= 16)),\n",
    "    ((weather['wdsp'] >=17) & (weather['wdsp'] <= 21)),\n",
    "    ((weather['wdsp'] >=22) & (weather['wdsp'] <= 27)),\n",
    "    ((weather['wdsp'] >=28) & (weather['wdsp'] <= 33)),\n",
    "    ((weather['wdsp'] >=34) & (weather['wdsp'] <= 40)),\n",
    "    ((weather['wdsp'] >=41) & (weather['wdsp'] <= 47)),\n",
    "    ((weather['wdsp'] >=48) & (weather['wdsp'] <= 55)),\n",
    "    ((weather['wdsp'] >=56) & (weather['wdsp'] <= 63)),\n",
    "    (weather['wdsp'] >=64)]\n",
    "values = [\"Calm\", \"Light air\", \"Light breeze\",\"Gentle breeze\",\"Moderate breeze\",\"Fresh breeze\",\"Strong breeze\",\"Near gale\",\n",
    "         \"Gale\",\"Strong gale\",\"Storm\",\"Violent storm\",\"Hurricane\"]\n",
    "weather['wdsp_classified'] = np.select(conditions, values)\n"
   ]
  },
  {
   "cell_type": "code",
   "execution_count": 22,
   "id": "d911108d",
   "metadata": {},
   "outputs": [
    {
     "data": {
      "text/plain": [
       "Index(['id', 'timestamp', 'total_bike_stands', 'available_bike_stands',\n",
       "       'available_bikes', 'year', 'month', 'day', 'hour', 'minute', 'weekday',\n",
       "       'number', 'name', 'latitude', 'longitude', 'holiday', 'season',\n",
       "       'date_for_merge', 'rain', 'temp', 'wdsp', 'wdsp_classified'],\n",
       "      dtype='object')"
      ]
     },
     "execution_count": 22,
     "metadata": {},
     "output_type": "execute_result"
    }
   ],
   "source": [
    "# Merging weather infomation to original dataset\n",
    "merged_data = pd.merge(combined_11_22, weather[['rain', 'temp', 'wdsp','wdsp_classified','date_for_merge']], on = 'date_for_merge', how = 'left')\n",
    "merged_data = merged_data.sort_values(['id', 'timestamp'])\n",
    "merged_data.columns"
   ]
  },
  {
   "cell_type": "code",
   "execution_count": 23,
   "id": "849b21b4",
   "metadata": {},
   "outputs": [],
   "source": [
    "# Sort the merged data according to stations and timestamp\n",
    "merged_data = merged_data.sort_values(['id', 'timestamp'])"
   ]
  },
  {
   "cell_type": "code",
   "execution_count": 24,
   "id": "69a93a59",
   "metadata": {
    "scrolled": true
   },
   "outputs": [
    {
     "data": {
      "text/plain": [
       "Index(['id', 'timestamp', 'total_bike_stands', 'available_bike_stands',\n",
       "       'available_bikes', 'year', 'month', 'day', 'hour', 'minute', 'weekday',\n",
       "       'number', 'name', 'latitude', 'longitude', 'holiday', 'season',\n",
       "       'date_for_merge', 'rain', 'temp', 'wdsp', 'wdsp_classified',\n",
       "       'availability_percentage', 'bike_arr_dep', 'bike_arr', 'bike_dep',\n",
       "       'interactions'],\n",
       "      dtype='object')"
      ]
     },
     "execution_count": 24,
     "metadata": {},
     "output_type": "execute_result"
    }
   ],
   "source": [
    "# Create availability_percentage, bike_arr_dep, bike_arr, bike_dep, interactions columns for further data analysis\n",
    "merged_data['availability_percentage'] =  merged_data['available_bikes'] / merged_data['total_bike_stands']\n",
    "merged_data['bike_arr_dep'] = merged_data.groupby('id')['available_bike_stands'].diff(-1)\n",
    "merged_data['bike_arr'] = np.where(merged_data['bike_arr_dep'] > 0, merged_data['bike_arr_dep'], 0)\n",
    "merged_data['bike_dep'] = np.where(merged_data['bike_arr_dep'] < 0, merged_data['bike_arr_dep'], 0)\n",
    "merged_data['interactions'] = abs(merged_data['bike_arr']) + abs(merged_data['bike_dep'])\n",
    "merged_data.columns"
   ]
  },
  {
   "cell_type": "markdown",
   "id": "740fa807",
   "metadata": {},
   "source": [
    "### Basic Data Exploration"
   ]
  },
  {
   "cell_type": "code",
   "execution_count": 25,
   "id": "51cafa8f",
   "metadata": {},
   "outputs": [
    {
     "data": {
      "image/png": "[encoded data removed]",
      "text/plain": [
       "<Figure size 432x288 with 1 Axes>"
      ]
     },
     "metadata": {
      "image/png": {
       "height": 277,
       "width": 414
      },
      "needs_background": "light"
     },
     "output_type": "display_data"
    }
   ],
   "source": [
    "# Visualising the data entries for each year \n",
    "\n",
    "# Removing the year 2022 as we are donot have complete dataset for that year\n",
    "diff1 = combined_11_22[combined_11_22['year']!=2022] \n",
    "diff1 = diff1.groupby(['year','month'])\n",
    "diff2 = diff1['available_bikes'].agg(['count'])['count'].reset_index(level=['year','month'])\n",
    "diff3 = pd.to_datetime(diff2['year'].astype(str) + '/' + diff2['month'].astype(str))\n",
    "plt.plot(list(diff3), list(diff2['count']))\n",
    "plt.title('Dublinbikes Data Collection')\n",
    "plt.xlabel('Time')\n",
    "plt.ylabel('Count');\n",
    "plt.ticklabel_format(style='plain', axis='y')"
   ]
  },
  {
   "cell_type": "code",
   "execution_count": 26,
   "id": "d09f6ce1",
   "metadata": {},
   "outputs": [
    {
     "data": {
      "image/png": "[encoded data removed]",
      "text/plain": [
       "<Figure size 432x288 with 1 Axes>"
      ]
     },
     "metadata": {
      "image/png": {
       "height": 277,
       "width": 388
      },
      "needs_background": "light"
     },
     "output_type": "display_data"
    }
   ],
   "source": [
    "# Visualsing the addtion of stations over the years\n",
    "\n",
    "stations_added = combined_11_22.groupby('year')['id'].nunique().reset_index(name ='total_stations')\n",
    "stations_added['new_stations'] = stations_added['total_stations'].diff()\n",
    "stations_added = stations_added.reset_index()\n",
    "plt.plot(stations_added['year'],stations_added['total_stations'],linewidth = 1,marker='o', markerfacecolor='black', markersize=6)\n",
    "#plt.plot(stations_added_final['year'], stations_added_final['total_stations'])\n",
    "plt.title('Addition of dublin bike stations over the years')\n",
    "plt.xlabel('Year')\n",
    "plt.ylabel('Total Stations');"
   ]
  },
  {
   "cell_type": "code",
   "execution_count": 27,
   "id": "a4e6d28f",
   "metadata": {},
   "outputs": [
    {
     "data": {
      "text/plain": [
       "array([2010, 2011, 2012, 2013, 2014, 2015, 2016, 2017, 2018, 2019, 2020,\n",
       "       2021, 2022])"
      ]
     },
     "execution_count": 27,
     "metadata": {},
     "output_type": "execute_result"
    }
   ],
   "source": [
    "years = merged_data['year'].unique()\n",
    "years"
   ]
  },
  {
   "cell_type": "code",
   "execution_count": 28,
   "id": "063fd19f",
   "metadata": {},
   "outputs": [],
   "source": [
    "# storing the transformed dataset for each year seperately to local which can be used for further analysis\n",
    "for i in years:\n",
    "    data = merged_data[merged_data['year'] == i];\n",
    "    data.to_csv('/Users/sreevathsadb/Masters/Project/New transformed data/'+str(i)+'.csv', index=False)"
   ]
  }
 ],
 "metadata": {
  "kernelspec": {
   "display_name": "Python 3 (ipykernel)",
   "language": "python",
   "name": "python3"
  },
  "language_info": {
   "codemirror_mode": {
    "name": "ipython",
    "version": 3
   },
   "file_extension": ".py",
   "mimetype": "text/x-python",
   "name": "python",
   "nbconvert_exporter": "python",
   "pygments_lexer": "ipython3",
   "version": "3.9.7"
  }
 },
 "nbformat": 4,
 "nbformat_minor": 5
}
